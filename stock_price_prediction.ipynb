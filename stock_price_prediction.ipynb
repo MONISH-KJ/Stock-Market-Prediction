{
  "cells": [
    {
      "cell_type": "code",
      "execution_count": 15,
      "metadata": {
        "id": "GNmplfPIfcnY"
      },
      "outputs": [],
      "source": [
        "! pip install streamlit -q\n"
      ]
    },
    {
      "cell_type": "code",
      "execution_count": 16,
      "metadata": {
        "colab": {
          "base_uri": "https://localhost:8080/"
        },
        "id": "LWblEcsvf9Hz",
        "outputId": "ad48631c-a2f6-4c64-9d69-04a7de9845bf"
      },
      "outputs": [
        {
          "output_type": "stream",
          "name": "stdout",
          "text": [
            "Overwriting app.py\n"
          ]
        }
      ],
      "source": [
        "%%writefile app.py\n",
        "import streamlit as st\n",
        "import streamlit as st\n",
        "import numpy as np\n",
        "import pandas as pd\n",
        "from keras.models import Sequential\n",
        "from keras.layers import Dense, LSTM\n",
        "from sklearn.preprocessing import MinMaxScaler\n",
        "import yfinance as yf\n",
        "import matplotlib.pyplot as plt\n",
        "\n",
        "# Function to predict the next day's closing price\n",
        "def predict_next_day_closing_price(model, scaler, historical_data):\n",
        "    last_60_days = historical_data[-60:].values\n",
        "    last_60_days_scaled = scaler.transform(last_60_days)\n",
        "    x_test = np.array([last_60_days_scaled])\n",
        "    x_test = np.reshape(x_test, (x_test.shape[0], x_test.shape[1], 1))\n",
        "\n",
        "    pred_price = model.predict(x_test)\n",
        "    pred_price = scaler.inverse_transform(pred_price)\n",
        "\n",
        "    return pred_price[0][0]\n",
        "\n",
        "# Download historical data for AAPL\n",
        "start_date = '2001-01-01'\n",
        "end_date = '2024-02-29'\n",
        "stock_ticker = 'AAPL'\n",
        "df = yf.download(stock_ticker, start=start_date, end=end_date)\n",
        "\n",
        "# Data preprocessing\n",
        "data = df.filter(['Close'])\n",
        "dataset = data.values\n",
        "scaler = MinMaxScaler(feature_range=(0, 1))\n",
        "scaled_data = scaler.fit_transform(dataset)\n",
        "\n",
        "# Train the LSTM model\n",
        "training_data_len = int(len(dataset) * 0.8)\n",
        "train_data = scaled_data[0:training_data_len, :]\n",
        "\n",
        "x_train = []\n",
        "y_train = []\n",
        "\n",
        "for i in range(60, len(train_data)):\n",
        "    x_train.append(train_data[i-60:i, 0])\n",
        "    y_train.append(train_data[i, 0])\n",
        "\n",
        "x_train, y_train = np.array(x_train), np.array(y_train)\n",
        "x_train = np.reshape(x_train, (x_train.shape[0], x_train.shape[1], 1))\n",
        "\n",
        "model = Sequential()\n",
        "model.add(LSTM(50, return_sequences=True, input_shape=(x_train.shape[1], 1)))\n",
        "model.add(LSTM(50, return_sequences=False))\n",
        "model.add(Dense(25))\n",
        "model.add(Dense(1))\n",
        "model.compile(optimizer='adam', loss='mean_squared_error')\n",
        "model.fit(x_train, y_train, batch_size=1, epochs=1)\n",
        "\n",
        "# Use the trained model to predict the next day's closing price\n",
        "next_day_pred = predict_next_day_closing_price(model, scaler, data)\n",
        "\n",
        "# Streamlit App\n",
        "st.title('Stock Prediction App')\n",
        "st.markdown(\"![Alt Text](https://c.tenor.com/jw92b2HUuTAAAAAC/stonks-stocks.gif)\")\n",
        "\n",
        "st.subheader(f'{stock_ticker} Data From {start_date} To {end_date}')\n",
        "st.write(df)\n",
        "\n",
        "st.subheader(f'{stock_ticker} Statistical Data')\n",
        "st.write(df.describe())\n",
        "\n",
        "st.subheader('Closing Price v/s Time Chart With 100 SMA And 200 SMA')\n",
        "st.write(\"A 100-day and 200-day Moving Average (MA) is the average of closing prices of the previous 100 days and 200 days respectively\")\n",
        "st.write(\"As Per Market Experts -> Buy signal appear when SMA-100 line cut SMA-200 line in its way upward\")\n",
        "\n",
        "ma100 = df.Close.rolling(100).mean()\n",
        "ma200 = df.Close.rolling(200).mean()\n",
        "fig = plt.figure(figsize=(12, 6))\n",
        "plt.plot(df.Close, 'b', label='Closing Price')\n",
        "plt.plot(ma100, 'r', label='100 SMA')\n",
        "plt.plot(ma200, 'g', label='200 SMA')\n",
        "plt.xlabel('Time')\n",
        "plt.ylabel('Price')\n",
        "plt.legend()\n",
        "st.pyplot(fig)\n",
        "\n",
        "st.subheader('Predict Next Day Closing Price')\n",
        "st.write(f\"Predicted Closing Price for the next day: {next_day_pred}\")\n",
        "\n",
        "# Visualize the predictions\n",
        "st.subheader('Model Predictions')\n",
        "plt.figure(figsize=(16, 8))\n",
        "plt.title('Model Predictions')\n",
        "plt.xlabel('Date', fontsize=18)\n",
        "plt.ylabel('Close Price', fontsize=18)\n",
        "plt.plot(data[-training_data_len:], label='Historical Data')\n",
        "plt.axvline(x=df.index[-1], color='r', linestyle='--', label='End of Historical Data')\n",
        "plt.scatter(df.index[-1], next_day_pred, color='g', label='Predicted Next Day Closing Price')\n",
        "plt.legend()\n",
        "st.pyplot(plt)\n",
        "\n",
        "st.write(\"\"\"\n",
        "This Is Just For Educational Purpose And No Way A Financial Advice.\n",
        "Made With ❤️ By [Your Name]\n",
        "\"\"\")\n"
      ]
    },
    {
      "cell_type": "code",
      "execution_count": null,
      "metadata": {
        "colab": {
          "base_uri": "https://localhost:8080/"
        },
        "id": "bDF0FlOegGce",
        "outputId": "3f157232-5b0b-4910-908d-78a4c7c0d011"
      },
      "outputs": [
        {
          "output_type": "stream",
          "name": "stdout",
          "text": [
            "Requirement already satisfied: pyngrok in /usr/local/lib/python3.10/dist-packages (7.2.0)\n",
            "Requirement already satisfied: PyYAML>=5.1 in /usr/local/lib/python3.10/dist-packages (from pyngrok) (6.0.2)\n"
          ]
        }
      ],
      "source": [
        "!pip install pyngrok\n"
      ]
    },
    {
      "cell_type": "code",
      "execution_count": 17,
      "metadata": {
        "colab": {
          "base_uri": "https://localhost:8080/"
        },
        "id": "da9jcSRQgK09",
        "outputId": "4476e4fe-b071-4318-9799-432c274cdac9"
      },
      "outputs": [
        {
          "output_type": "stream",
          "name": "stdout",
          "text": [
            "\n",
            "Collecting usage statistics. To deactivate, set browser.gatherUsageStats to false.\n",
            "\u001b[0m\n",
            "\u001b[0m\n",
            "\u001b[34m\u001b[1m  You can now view your Streamlit app in your browser.\u001b[0m\n",
            "\u001b[0m\n",
            "\u001b[34m  Local URL: \u001b[0m\u001b[1mhttp://localhost:8501\u001b[0m\n",
            "\u001b[34m  Network URL: \u001b[0m\u001b[1mhttp://172.28.0.12:8501\u001b[0m\n",
            "\u001b[34m  External URL: \u001b[0m\u001b[1mhttp://34.106.137.15:8501\u001b[0m\n",
            "\u001b[0m\n",
            "your url is: https://puny-parents-sleep.loca.lt\n",
            "2024-10-23 09:19:16.940988: E external/local_xla/xla/stream_executor/cuda/cuda_fft.cc:485] Unable to register cuFFT factory: Attempting to register factory for plugin cuFFT when one has already been registered\n",
            "2024-10-23 09:19:16.976778: E external/local_xla/xla/stream_executor/cuda/cuda_dnn.cc:8454] Unable to register cuDNN factory: Attempting to register factory for plugin cuDNN when one has already been registered\n",
            "2024-10-23 09:19:16.987977: E external/local_xla/xla/stream_executor/cuda/cuda_blas.cc:1452] Unable to register cuBLAS factory: Attempting to register factory for plugin cuBLAS when one has already been registered\n",
            "2024-10-23 09:19:19.348936: W tensorflow/compiler/tf2tensorrt/utils/py_utils.cc:38] TF-TRT Warning: Could not find TensorRT\n",
            "[*********************100%***********************]  1 of 1 completed\n",
            "/usr/local/lib/python3.10/dist-packages/keras/src/layers/rnn/rnn.py:204: UserWarning: Do not pass an `input_shape`/`input_dim` argument to a layer. When using Sequential models, prefer using an `Input(shape)` object as the first layer in the model instead.\n",
            "  super().__init__(**kwargs)\n",
            "\u001b[1m4600/4600\u001b[0m \u001b[32m━━━━━━━━━━━━━━━━━━━━\u001b[0m\u001b[37m\u001b[0m \u001b[1m120s\u001b[0m 26ms/step - loss: 1.7534e-04\n",
            "\u001b[1m1/1\u001b[0m \u001b[32m━━━━━━━━━━━━━━━━━━━━\u001b[0m\u001b[37m\u001b[0m \u001b[1m0s\u001b[0m 279ms/step\n",
            "\u001b[34m  Stopping...\u001b[0m\n",
            "^C\n"
          ]
        }
      ],
      "source": [
        "! streamlit run app.py & npx localtunnel --port 8501\n"
      ]
    }
  ],
  "metadata": {
    "colab": {
      "provenance": []
    },
    "kernelspec": {
      "display_name": "Python 3",
      "name": "python3"
    },
    "language_info": {
      "name": "python"
    }
  },
  "nbformat": 4,
  "nbformat_minor": 0
}